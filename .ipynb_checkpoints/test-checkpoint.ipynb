{
 "cells": [
  {
   "cell_type": "code",
   "execution_count": 1,
   "id": "9b0a610c-0f93-426f-8ac5-6cb02411a290",
   "metadata": {},
   "outputs": [
    {
     "name": "stderr",
     "output_type": "stream",
     "text": [
      "C:\\Users\\Alex\\AppData\\Local\\Temp\\ipykernel_8340\\4080736814.py:1: DeprecationWarning: \n",
      "Pyarrow will become a required dependency of pandas in the next major release of pandas (pandas 3.0),\n",
      "(to allow more performant data types, such as the Arrow string type, and better interoperability with other libraries)\n",
      "but was not found to be installed on your system.\n",
      "If this would cause problems for you,\n",
      "please provide us feedback at https://github.com/pandas-dev/pandas/issues/54466\n",
      "        \n",
      "  import pandas as pd\n"
     ]
    }
   ],
   "source": [
    "import pandas as pd"
   ]
  },
  {
   "cell_type": "code",
   "execution_count": 2,
   "id": "f6200b8e-45da-4dc5-85ce-8ab1245e5173",
   "metadata": {},
   "outputs": [],
   "source": [
    "k = [1,5,7,8,9,7]"
   ]
  },
  {
   "cell_type": "code",
   "execution_count": 4,
   "id": "e5a291ff-6cc7-4c70-a4a2-929a5897943b",
   "metadata": {},
   "outputs": [],
   "source": [
    "name = 'Alex'"
   ]
  },
  {
   "cell_type": "code",
   "execution_count": null,
   "id": "3cacdeeb-5c20-4718-84ae-90d4b9ed637d",
   "metadata": {},
   "outputs": [],
   "source": []
  }
 ],
 "metadata": {
  "kernelspec": {
   "display_name": "Python 3 (ipykernel)",
   "language": "python",
   "name": "python3"
  },
  "language_info": {
   "codemirror_mode": {
    "name": "ipython",
    "version": 3
   },
   "file_extension": ".py",
   "mimetype": "text/x-python",
   "name": "python",
   "nbconvert_exporter": "python",
   "pygments_lexer": "ipython3",
   "version": "3.12.3"
  }
 },
 "nbformat": 4,
 "nbformat_minor": 5
}
